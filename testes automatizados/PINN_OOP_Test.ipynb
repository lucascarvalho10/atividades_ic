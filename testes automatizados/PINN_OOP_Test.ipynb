{
  "cells": [
    {
      "cell_type": "markdown",
      "metadata": {
        "id": "HFwRFawQqZIa"
      },
      "source": [
        "# Modelo Orientado a Objetos - Equação de Burgers"
      ]
    },
    {
      "cell_type": "markdown",
      "metadata": {
        "id": "OhVBCOFFyCkx"
      },
      "source": [
        "Diante da necessidade de estruturar o código de maneira mais clara e adequada e também da possibilidade de adicionar novas funcionalidades, como validação e testes, foi lançado mão a orientação a objetos, a qual será abordada neste notebook."
      ]
    },
    {
      "cell_type": "markdown",
      "metadata": {
        "id": "DENPRsUOp9Sg"
      },
      "source": [
        "O objetivo é resolver a equação de Burgers em duas dimensões:\n",
        "\n",
        "\\begin{equation}\n",
        "\\frac{\\partial u}{\\partial t} + u \\frac{\\partial u}{\\partial x} + v \\frac{\\partial u}{\\partial y} = \\nu \\left(\\frac{\\partial^2 u}{\\partial x^2} + \\frac{\\partial^2 u}{\\partial y^2}\\right)\n",
        "\\end{equation}\n",
        "\n",
        "\\begin{equation}\n",
        "\\frac{\\partial v}{\\partial t} + u \\frac{\\partial v}{\\partial x} + v \\frac{\\partial v}{\\partial y} = \\nu \\left(\\frac{\\partial^2 v}{\\partial x^2} + \\frac{\\partial^2 v}{\\partial y^2} + \\right)\n",
        "\\end{equation}"
      ]
    },
    {
      "cell_type": "markdown",
      "metadata": {
        "id": "gk0NaU4gqNL9"
      },
      "source": [
        "### Instalação de Dependências e Configurações"
      ]
    },
    {
      "cell_type": "code",
      "execution_count": 1,
      "metadata": {
        "colab": {
          "base_uri": "https://localhost:8080/"
        },
        "id": "1nZGKHjrx5Yv",
        "outputId": "76c95574-8a4b-4461-96b6-6f03c4819bdc"
      },
      "outputs": [
        {
          "name": "stderr",
          "output_type": "stream",
          "text": [
            "/usr/lib/python3/dist-packages/requests/__init__.py:89: RequestsDependencyWarning: urllib3 (2.2.0) or chardet (3.0.4) doesn't match a supported version!\n",
            "  warnings.warn(\"urllib3 ({}) or chardet ({}) doesn't match a supported \"\n"
          ]
        }
      ],
      "source": [
        "!pip install plotly --quiet\n",
        "!pip install wandb -qU --quiet\n",
        "\n",
        "import torch\n",
        "import torch.nn as nn\n",
        "import torch.nn.functional as F\n",
        "import numpy as np\n",
        "import time\n",
        "\n",
        "import torch.optim as optim\n",
        "\n",
        "import matplotlib.pyplot as plt\n",
        "\n",
        "from datetime import datetime\n",
        "\n",
        "import wandb\n",
        "\n",
        "np.random.seed(1)"
      ]
    },
    {
      "cell_type": "markdown",
      "metadata": {
        "id": "JO5523AjKroO"
      },
      "source": [
        "Em seguida, vamos conectar ao Google Drive, para conseguir exporar os modelos gerados."
      ]
    },
    {
      "cell_type": "markdown",
      "metadata": {
        "id": "t0u2bcCLI74O"
      },
      "source": [
        "Agora, vamos configurar o W&B para capturar a evolução do treinamento e sua otimização."
      ]
    },
    {
      "cell_type": "code",
      "execution_count": 2,
      "metadata": {
        "colab": {
          "base_uri": "https://localhost:8080/",
          "height": 1000,
          "referenced_widgets": [
            "acf5bb49d72c43a09785ab6b27302f4f",
            "faf210c2bb66437ea38ae2462900ca8a",
            "dcf0d54a3e234c16ae0aa7abb0595143",
            "99572d02a5da4290938cdece8651e9f8",
            "84493f74702b452eb5f0cba84238f9a3",
            "2046bfa5c64a4fe3af9374216a9b382a",
            "56400735044d49eebe5550cd945d8cc2",
            "4131ee39206e43318d79dae964e81fee"
          ]
        },
        "id": "TgpB1ncaJAxR",
        "outputId": "60433fe8-9c23-4507-e288-3f0081169152"
      },
      "outputs": [
        {
          "name": "stderr",
          "output_type": "stream",
          "text": [
            "Failed to detect the name of this notebook, you can set it manually with the WANDB_NOTEBOOK_NAME environment variable to enable code saving.\n"
          ]
        },
        {
          "name": "stderr",
          "output_type": "stream",
          "text": [
            "/usr/lib/python3/dist-packages/requests/__init__.py:89: RequestsDependencyWarning: urllib3 (2.2.0) or chardet (3.0.4) doesn't match a supported version!\n",
            "  warnings.warn(\"urllib3 ({}) or chardet ({}) doesn't match a supported \"\n",
            "\u001b[34m\u001b[1mwandb\u001b[0m: Currently logged in as: \u001b[33mlucarvalho\u001b[0m. Use \u001b[1m`wandb login --relogin`\u001b[0m to force relogin\n"
          ]
        },
        {
          "data": {
            "text/html": [
              "Tracking run with wandb version 0.16.3"
            ],
            "text/plain": [
              "<IPython.core.display.HTML object>"
            ]
          },
          "metadata": {},
          "output_type": "display_data"
        },
        {
          "data": {
            "text/html": [
              "Run data is saved locally in <code>/home/lucascarvalho/projeto_ic/testes automatizados/wandb/run-20240217_202355-odju6qts</code>"
            ],
            "text/plain": [
              "<IPython.core.display.HTML object>"
            ]
          },
          "metadata": {},
          "output_type": "display_data"
        },
        {
          "data": {
            "text/html": [
              "Syncing run <strong><a href='https://wandb.ai/lucarvalho/ic_pinn/runs/odju6qts' target=\"_blank\">dazzling-monkey-157</a></strong> to <a href='https://wandb.ai/lucarvalho/ic_pinn' target=\"_blank\">Weights & Biases</a> (<a href='https://wandb.me/run' target=\"_blank\">docs</a>)<br/>"
            ],
            "text/plain": [
              "<IPython.core.display.HTML object>"
            ]
          },
          "metadata": {},
          "output_type": "display_data"
        },
        {
          "data": {
            "text/html": [
              " View project at <a href='https://wandb.ai/lucarvalho/ic_pinn' target=\"_blank\">https://wandb.ai/lucarvalho/ic_pinn</a>"
            ],
            "text/plain": [
              "<IPython.core.display.HTML object>"
            ]
          },
          "metadata": {},
          "output_type": "display_data"
        },
        {
          "data": {
            "text/html": [
              " View run at <a href='https://wandb.ai/lucarvalho/ic_pinn/runs/odju6qts' target=\"_blank\">https://wandb.ai/lucarvalho/ic_pinn/runs/odju6qts</a>"
            ],
            "text/plain": [
              "<IPython.core.display.HTML object>"
            ]
          },
          "metadata": {},
          "output_type": "display_data"
        },
        {
          "data": {
            "text/html": [
              "<button onClick=\"this.nextSibling.style.display='block';this.style.display='none';\">Display W&B run</button><iframe src='https://wandb.ai/lucarvalho/ic_pinn/runs/odju6qts?jupyter=true' style='border:none;width:100%;height:420px;display:none;'></iframe>"
            ],
            "text/plain": [
              "<wandb.sdk.wandb_run.Run at 0x7fa1bf0107f0>"
            ]
          },
          "execution_count": 2,
          "metadata": {},
          "output_type": "execute_result"
        }
      ],
      "source": [
        "wandb.init(project='ic_pinn', entity='lucarvalho')"
      ]
    },
    {
      "cell_type": "code",
      "execution_count": 3,
      "metadata": {
        "id": "9Bus8t6Y7NDA"
      },
      "outputs": [],
      "source": [
        "# sweep_config = {\n",
        "#                 'method': 'random',\n",
        "#                 'metric': {'goal': 'minimize', 'name': 'loss'},\n",
        "#                 'parameters': {\n",
        "#                     'comprimento_y': {\n",
        "#                         'distribution': 'uniform',\n",
        "#                         'max': 0.5,\n",
        "#                         'min': 1.5,\n",
        "#                     },\n",
        "#                     'comprimento_x': {\n",
        "#                         'distribution': 'uniform',\n",
        "#                         'max': 0.5,\n",
        "#                         'min': 1.5,\n",
        "#                     },\n",
        "#                     'tempo_final': {\n",
        "#                         'distribution': 'uniform',\n",
        "#                         'max': 0.5,\n",
        "#                         'min': 1.5,\n",
        "#                     },\n",
        "\n",
        "#                     'epocas': {'value': 10000},\n",
        "\n",
        "#                     'learning_rate': {\n",
        "#                           'distribution': 'uniform',\n",
        "#                           'max': 0.1,\n",
        "#                           'min': 0\n",
        "#                     },\n",
        "#                     'alpha': {\n",
        "#                         'distribution': 'uniform',\n",
        "#                         'max': 0.3,\n",
        "#                         'min': 0.05\n",
        "#                     },\n",
        "#                 }\n",
        "#  }"
      ]
    },
    {
      "cell_type": "code",
      "execution_count": 4,
      "metadata": {
        "id": "p04HaOqO8rH3"
      },
      "outputs": [],
      "source": [
        "# sweep_id = wandb.sweep(sweep_config, project=\"ic_pinn\")"
      ]
    },
    {
      "cell_type": "markdown",
      "metadata": {
        "id": "V4hmZqEPygL2"
      },
      "source": [
        "## Definição da Classe"
      ]
    },
    {
      "cell_type": "markdown",
      "metadata": {
        "id": "QZF--pc60qU5"
      },
      "source": [
        "Na abordagem orientada a objetos nesta implementação, a classe apresenta um cosntrutor que define os principais parâmetros da rede, ao passo que cada um dos métodos são, na realidade, passos pequenas passos na abordagem da solução."
      ]
    },
    {
      "cell_type": "markdown",
      "metadata": {
        "id": "lQF-ICUHOLVx"
      },
      "source": [
        "Primeiramente, a definição de um bloco residual para implementar skip connections."
      ]
    },
    {
      "cell_type": "code",
      "execution_count": 5,
      "metadata": {
        "id": "EdUOn8h8OKsn"
      },
      "outputs": [],
      "source": [
        "class ResidualBlock(nn.Module):\n",
        "    def __init__(self, in_features, out_features):\n",
        "        super(ResidualBlock, self).__init__()\n",
        "        self.linear1 = nn.Linear(in_features, out_features)\n",
        "        self.linear2 = nn.Linear(out_features, out_features)\n",
        "\n",
        "        # Adicionar camada linear para ajustar dimensões, se necessário\n",
        "        if in_features != out_features:\n",
        "            self.adjust_dimensions = nn.Linear(in_features, out_features)\n",
        "        else:\n",
        "            self.adjust_dimensions = None\n",
        "\n",
        "    def forward(self, x):\n",
        "        residual = x\n",
        "        x = torch.tanh(self.linear1(x))  # Modificado para tangente hiperbólica\n",
        "        x = self.linear2(x)\n",
        "\n",
        "        # Ajustar dimensões da entrada residual, se necessário\n",
        "        if self.adjust_dimensions is not None:\n",
        "            residual = self.adjust_dimensions(residual)\n",
        "\n",
        "        if residual.shape[1] == x.shape[1]:  # Verifica se as dimensões são compatíveis para a conexão de pulo\n",
        "            x += residual  # Conexão de pulo\n",
        "        else:\n",
        "            raise RuntimeError(\"Dimensões incompatíveis para a conexão de pulo.\")\n",
        "        return torch.tanh(x)  # Modificado para tangente hiperbólica"
      ]
    },
    {
      "cell_type": "markdown",
      "metadata": {
        "id": "xe4md-JCOU9G"
      },
      "source": [
        "Agora, a definição da classe pinn"
      ]
    },
    {
      "cell_type": "code",
      "execution_count": 6,
      "metadata": {
        "id": "xs4u7jkwyjvf"
      },
      "outputs": [],
      "source": [
        "class pinn:\n",
        "\n",
        "  # Método contrutor\n",
        "  def __init__(self, comprimento_x: int = 1, comprimento_y: int = 1, tempo_final: int = 1,\n",
        "    pontos_no_contorno: int = 1000, pontos_no_dominio: int = 2000, numero_de_neuronios = [3, 20, 20, 20, 2],\n",
        "    pontos_no_contorno_validacao: int = 200, pontos_no_dominio_validacao: int = 300,\n",
        "    alpha: float = 0.2, epocas: int = 20000, learning_rate: float = 0.01,\n",
        "    train: bool = False, verbose: bool = False, max_time = None,\n",
        "    device = torch.device('cuda' if torch.cuda.is_available () else 'cpu')):\n",
        "\n",
        "    self.comprimento_x = comprimento_x\n",
        "    self.comprimento_y = comprimento_y\n",
        "    self.tempo_final = tempo_final\n",
        "    self.alpha = alpha\n",
        "    self.epocas = epocas\n",
        "    self.learning_rate = learning_rate\n",
        "    self.pontos_no_contorno = pontos_no_contorno\n",
        "    self.pontos_no_dominio = pontos_no_dominio\n",
        "    self.numero_de_neuronios = numero_de_neuronios\n",
        "    self.learning_rate = learning_rate\n",
        "    self.pontos_no_contorno_validacao = pontos_no_contorno_validacao\n",
        "    self.pontos_no_dominio_validacao = pontos_no_dominio_validacao\n",
        "\n",
        "    if type(device) == str:\n",
        "      device = torch.device(device)\n",
        "    self.device = device\n",
        "\n",
        "    if train:\n",
        "      self.treinamento_da_rede()\n",
        "\n",
        "  def gerar_lado(self, pontos_por_lado, comprimento_x, comprimento_y, tempo_final, velocidade = 0):\n",
        "        x = np.random.uniform(size=(pontos_por_lado, 1), low=0, high=comprimento_x)\n",
        "        y = np.random.uniform(size=(pontos_por_lado, 1), low=0, high=comprimento_y)\n",
        "        t = np.random.uniform(size=(pontos_por_lado, 1), low=0, high=tempo_final)\n",
        "        if (velocidade == 0):\n",
        "          u = 0 * np.ones((pontos_por_lado, 1))\n",
        "          v = 0 * np.ones((pontos_por_lado, 1))\n",
        "        else:\n",
        "          u = np.sin(2*np.pi*x)*np.sin(2*np.pi*y)\n",
        "          v = np.sin(np.pi*x)*np.sin(np.pi*y)\n",
        "\n",
        "        return x, y, t, u, v\n",
        "\n",
        "  def gerar_pontos_contorno(self):\n",
        "        pontos_por_lado = self.pontos_no_contorno // 6\n",
        "        x1, y1, t1, u1, v1 = self.gerar_lado(pontos_por_lado, self.comprimento_x, 0, self.tempo_final)\n",
        "        x2, y2, t2, u2, v2 = self.gerar_lado(pontos_por_lado, 0, self.comprimento_y, self.tempo_final)\n",
        "        x3, y3, t3, u3, v3 = self.gerar_lado(pontos_por_lado, self.comprimento_x, self.comprimento_y, self.tempo_final)\n",
        "        x4, y4, t4, u4, v4 = self.gerar_lado(pontos_por_lado, self.comprimento_x, self.comprimento_y, self.tempo_final)\n",
        "\n",
        "        x_inicial, y_inicial, t_inicial, u_inicial, v_inicial = self.gerar_lado(\n",
        "            2 * pontos_por_lado, self.comprimento_x, self.comprimento_y, 0, 1\n",
        "        )\n",
        "\n",
        "        # Juntar todos os lados\n",
        "        x_todos = np.vstack((x1, x2, x3, x4, x_inicial))\n",
        "        y_todos = np.vstack((y1, y2, y3, y4, y_inicial))\n",
        "        t_todos = np.vstack((t1, t2, t3, t4, t_inicial))\n",
        "        u_todos = np.vstack((u1, u2, u3, u4, u_inicial))\n",
        "        v_todos = np.vstack((v1, v2, v3, v4, v_inicial))\n",
        "\n",
        "        # Criar arrays X e Y\n",
        "        X_contorno = np.hstack((x_todos, y_todos, t_todos))\n",
        "        Y_contorno = np.hstack((u_todos, v_todos))\n",
        "\n",
        "        self.X_contorno = X_contorno\n",
        "        self.Y_contorno = Y_contorno\n",
        "\n",
        "  def gerar_pontos_validacao(self):\n",
        "        pontos_por_lado_validacao = self.pontos_no_contorno_validacao // 6\n",
        "        x1, y1, t1, u1, v1 = self.gerar_lado(pontos_por_lado_validacao, self.comprimento_x, 0, self.tempo_final)\n",
        "        x2, y2, t2, u2, v2 = self.gerar_lado(pontos_por_lado_validacao, 0, self.comprimento_y, self.tempo_final)\n",
        "        x3, y3, t3, u3, v3 = self.gerar_lado(pontos_por_lado_validacao, self.comprimento_x, self.comprimento_y, self.tempo_final)\n",
        "        x4, y4, t4, u4, v4 = self.gerar_lado(pontos_por_lado_validacao, self.comprimento_x, self.comprimento_y, self.tempo_final)\n",
        "\n",
        "        x_inicial_validacao, y_inicial_validacao, t_inicial_validacao, u_inicial_validacao, v_inicial_validacao = self.gerar_lado(\n",
        "            2 * pontos_por_lado_validacao, self.comprimento_x, self.comprimento_y, 0, 1\n",
        "        )\n",
        "\n",
        "        # Juntar todos os lados em validação\n",
        "        x_todos_validacao = np.vstack((x1, x2, x3, x4, x_inicial_validacao))\n",
        "        y_todos_validacao = np.vstack((y1, y2, y3, y4, y_inicial_validacao))\n",
        "        t_todos_validacao = np.vstack((t1, t2, t3, t4, t_inicial_validacao))\n",
        "        u_todos_validacao = np.vstack((u1, u2, u3, u4, u_inicial_validacao))\n",
        "        v_todos_validacao = np.vstack((v1, v2, v3, v4, v_inicial_validacao))\n",
        "\n",
        "        # Arrays X e Y para validação\n",
        "        X_contorno_validacao = np.hstack((x_todos_validacao, y_todos_validacao, t_todos_validacao))\n",
        "        Y_contorno_validacao = np.hstack((u_todos_validacao, v_todos_validacao))\n",
        "\n",
        "        self.X_contorno_validacao = X_contorno_validacao\n",
        "        self.Y_contorno_validacao = Y_contorno_validacao\n",
        "\n",
        "  def gerar_pontos_equacao(self):\n",
        "    x_dominio = np.random.uniform(size=(self.pontos_no_dominio, 1), low=0, high=self.comprimento_x)\n",
        "    y_dominio = np.random.uniform(size=(self.pontos_no_dominio, 1), low=0, high=self.comprimento_y)\n",
        "    t_dominio = np.random.uniform(size=(self.pontos_no_dominio, 1), low=0, high=self.tempo_final)\n",
        "\n",
        "    x_dominio_validacao = np.random.uniform(size=(self.pontos_no_dominio_validacao, 1), low=0, high=self.comprimento_x)\n",
        "    y_dominio_validacao = np.random.uniform(size=(self.pontos_no_dominio_validacao, 1), low=0, high=self.comprimento_y)\n",
        "    t_dominio_validacao = np.random.uniform(size=(self.pontos_no_dominio_validacao, 1), low=0, high=self.tempo_final)\n",
        "\n",
        "    X_equacao = np.hstack((x_dominio, y_dominio, t_dominio))\n",
        "    X_equacao_validacao = np.hstack((x_dominio_validacao, y_dominio_validacao, t_dominio_validacao))\n",
        "\n",
        "    self.X_equacao = torch.tensor(X_equacao, requires_grad=True, dtype=torch.float).to(self.device)\n",
        "    self.X_equacao_validacao = torch.tensor(X_equacao_validacao, requires_grad=True, dtype=torch.float).to(self.device)\n",
        "\n",
        "  def criar_rede_neural(self):\n",
        "        # Criar uma lista de todas as camadas\n",
        "        camadas = []\n",
        "\n",
        "        # Adicionar camadas residuais\n",
        "        for i in range(len(self.numero_de_neuronios)-2):\n",
        "            camadas.append(ResidualBlock(self.numero_de_neuronios[i], self.numero_de_neuronios[i + 1]))\n",
        "\n",
        "            # adicionar dropout\n",
        "            # camadas.append(nn.Dropout(p=0.5))\n",
        "\n",
        "        # Última camada sem ativação (pode ser ajustado conforme necessário)\n",
        "        camadas.append(nn.Linear(self.numero_de_neuronios[-2], self.numero_de_neuronios[-1]))\n",
        "\n",
        "        # Criar a rede\n",
        "        self.rna = nn.Sequential(*camadas)\n",
        "\n",
        "  def calc_perda_contorno(self):\n",
        "    Y_predito = self.rna(self.X_contorno)\n",
        "    Y_predito_validacao = self.rna(self.X_contorno_validacao)\n",
        "\n",
        "    perda_contorno = nn.functional.mse_loss(Y_predito, self.Y_contorno)\n",
        "    perda_contorno_validacao = nn.functional.mse_loss(Y_predito_validacao, self.Y_contorno_validacao)\n",
        "\n",
        "    self.perda_contorno = perda_contorno\n",
        "    self.perda_contorno_validacao = perda_contorno_validacao\n",
        "\n",
        "  def regerar_pontos_contorno(self):\n",
        "    pontos_por_lado = self.pontos_no_contorno // 6\n",
        "    x1, y1, t1, u1, v1 = self.gerar_lado(pontos_por_lado, self.comprimento_x, 0, self.tempo_final)\n",
        "    x2, y2, t2, u2, v2 = self.gerar_lado(pontos_por_lado, 0, self.comprimento_y, self.tempo_final)\n",
        "    x3, y3, t3, u3, v3 = self.gerar_lado(pontos_por_lado, self.comprimento_x, self.comprimento_y, self.tempo_final)\n",
        "    x4, y4, t4, u4, v4 = self.gerar_lado(pontos_por_lado, self.comprimento_x, self.comprimento_y, self.tempo_final)\n",
        "\n",
        "    x_inicial, y_inicial, t_inicial, u_inicial, v_inicial = self.gerar_lado(\n",
        "        2 * pontos_por_lado, self.comprimento_x, self.comprimento_y, 0, 1\n",
        "    )\n",
        "\n",
        "    # Juntar todos os lados\n",
        "    x_todos = np.vstack((x1, x2, x3, x4, x_inicial))\n",
        "    y_todos = np.vstack((y1, y2, y3, y4, y_inicial))\n",
        "    t_todos = np.vstack((t1, t2, t3, t4, t_inicial))\n",
        "    u_todos = np.vstack((u1, u2, u3, u4, u_inicial))\n",
        "    v_todos = np.vstack((v1, v2, v3, v4, v_inicial))\n",
        "\n",
        "    # Criar arrays X e Y\n",
        "    X_contorno = np.hstack((x_todos, y_todos, t_todos))\n",
        "    Y_contorno = np.hstack((u_todos, v_todos))\n",
        "\n",
        "    # Converter para tensores\n",
        "    # X_contorno = torch.tensor(X_contorno, requires_grad=True, dtype=torch.float).to(self.device)\n",
        "    # Y_contorno = torch.tensor(Y_contorno, requires_grad=True, dtype=torch.float).to(self.device)\n",
        "\n",
        "    X_contorno = torch.tensor(X_contorno, dtype=torch.float).clone().detach().requires_grad_(True).to(self.device)\n",
        "    Y_contorno = torch.tensor(Y_contorno, dtype=torch.float).clone().detach().requires_grad_(True).to(self.device)\n",
        "\n",
        "    self.X_contorno = X_contorno\n",
        "    self.Y_contorno = Y_contorno\n",
        "\n",
        "  def regerar_pontos_equacao(self):\n",
        "    pontos_por_lado = self.pontos_no_dominio // 4\n",
        "\n",
        "    x1, y1, t1, u1, v1 = self.gerar_lado(pontos_por_lado, self.comprimento_x, 0, self.tempo_final)\n",
        "    x2, y2, t2, u2, v2 = self.gerar_lado(pontos_por_lado, 0, self.comprimento_y, self.tempo_final)\n",
        "    x3, y3, t3, u3, v3 = self.gerar_lado(pontos_por_lado, self.comprimento_x, self.comprimento_y, self.tempo_final)\n",
        "    x4, y4, t4, u4, v4 = self.gerar_lado(pontos_por_lado, self.comprimento_x, self.comprimento_y, self.tempo_final)\n",
        "\n",
        "    # Juntar todos os lados\n",
        "    x_todos = np.vstack((x1, x2, x3, x4))\n",
        "    y_todos = np.vstack((y1, y2, y3, y4))\n",
        "    t_todos = np.vstack((t1, t2, t3, t4))\n",
        "    u_todos = np.vstack((u1, u2, u3, u4))\n",
        "    v_todos = np.vstack((v1, v2, v3, v4))\n",
        "\n",
        "    # Criar arrays X e Y\n",
        "    X_equacao = np.hstack((x_todos, y_todos, t_todos))\n",
        "    Y_equacao = np.hstack((u_todos, v_todos))\n",
        "\n",
        "    # Converter para tensores\n",
        "    X_equacao = torch.tensor(X_equacao, dtype=torch.float).clone().detach().requires_grad_(True).to(self.device)\n",
        "    Y_equacao = torch.tensor(Y_equacao, dtype=torch.float).clone().detach().requires_grad_(True).to(self.device)\n",
        "\n",
        "    self.X_equacao = X_equacao\n",
        "    self.Y_equacao = Y_equacao\n",
        "\n",
        "\n",
        "  def calcular_gradientes(self, u, v, x, y, t):\n",
        "        u_x = torch.autograd.grad(u, x, grad_outputs=torch.ones_like(u), retain_graph=True, create_graph=True)[0]\n",
        "        u_xx = torch.autograd.grad(u_x, x, grad_outputs=torch.ones_like(u), retain_graph=True, create_graph=True)[0]\n",
        "        u_y = torch.autograd.grad(u, y, grad_outputs=torch.ones_like(u), retain_graph=True, create_graph=True)[0]\n",
        "        u_yy = torch.autograd.grad(u_y, y, grad_outputs=torch.ones_like(u), retain_graph=True, create_graph=True)[0]\n",
        "\n",
        "        v_x = torch.autograd.grad(v, x, grad_outputs=torch.ones_like(u), retain_graph=True, create_graph=True)[0]\n",
        "        v_xx = torch.autograd.grad(v_x, x, grad_outputs=torch.ones_like(u), retain_graph=True, create_graph=True)[0]\n",
        "        v_y = torch.autograd.grad(v, y, grad_outputs=torch.ones_like(u), retain_graph=True, create_graph=True)[0]\n",
        "        v_yy = torch.autograd.grad(v_y, y, grad_outputs=torch.ones_like(u), retain_graph=True, create_graph=True)[0]\n",
        "\n",
        "        u_t = torch.autograd.grad(u, t, grad_outputs=torch.ones_like(u), retain_graph=True, create_graph=True)[0]\n",
        "        v_t = torch.autograd.grad(v, t, grad_outputs=torch.ones_like(u), retain_graph=True, create_graph=True)[0]\n",
        "\n",
        "        return u_x, u_xx, u_y, u_yy, v_x, v_xx, v_y, v_yy, u_t, v_t\n",
        "\n",
        "  def calc_residuo(self):\n",
        "        x = self.X_equacao[:, 0].reshape(-1, 1)\n",
        "        y = self.X_equacao[:, 1].reshape(-1, 1)\n",
        "        t = self.X_equacao[:, 2].reshape(-1, 1)\n",
        "\n",
        "        x_validacao = self.X_equacao_validacao[:, 0].reshape(-1, 1)\n",
        "        y_validacao = self.X_equacao_validacao[:, 1].reshape(-1, 1)\n",
        "        t_validacao = self.X_equacao_validacao[:, 2].reshape(-1, 1)\n",
        "\n",
        "        V = self.rna(torch.hstack((x, y, t)))\n",
        "        u = V[:, 0].reshape(-1, 1)\n",
        "        v = V[:, 1].reshape(-1, 1)\n",
        "\n",
        "        V_validacao = self.rna(torch.hstack((x_validacao, y_validacao, t_validacao)))\n",
        "        u_validacao = V_validacao[:, 0].reshape(-1, 1)\n",
        "        v_validacao = V_validacao[:, 1].reshape(-1, 1)\n",
        "\n",
        "        u_x, u_xx, u_y, u_yy, v_x, v_xx, v_y, v_yy, u_t, v_t = self.calcular_gradientes(u, v, x, y, t)\n",
        "        u_x_validacao, u_xx_validacao, u_y_validacao, u_yy_validacao, v_x_validacao, v_xx_validacao, v_y_validacao, v_yy_validacao, u_t_validacao, v_t_validacao = self.calcular_gradientes(u_validacao, v_validacao, x_validacao, y_validacao, t_validacao)\n",
        "\n",
        "        residual_u = (u_t + u * u_x + v * u_y - 0.01/np.pi * (u_xx + u_yy))\n",
        "        residual_v = (v_t + u * v_x + v * v_y - 0.01/np.pi * (v_xx + v_yy))\n",
        "\n",
        "        residual_u_validacao = (u_t_validacao + u_validacao * u_x_validacao + v_validacao * u_y_validacao - 0.01/np.pi * (u_xx_validacao + u_yy_validacao))\n",
        "        residual_v_validacao = (v_t_validacao + u_validacao * v_x_validacao + v_validacao * v_y_validacao - 0.01/np.pi * (v_xx_validacao + v_yy_validacao))\n",
        "\n",
        "        residuo_total = torch.cat((residual_u, residual_v), dim=1)\n",
        "        self.residuo_total = residuo_total\n",
        "\n",
        "        residuo_total_validacao = torch.cat((residual_u_validacao, residual_v_validacao), dim=1)\n",
        "        self.residuo_total_validacao = residuo_total_validacao\n",
        "        return residuo_total_validacao\n",
        "\n",
        "  def calc_perda_equacao(self):\n",
        "    self.calc_residuo()\n",
        "    residuo = torch.mean(torch.square(self.residuo_total))\n",
        "    residuo_validacao = torch.mean(torch.square(self.residuo_total_validacao))\n",
        "\n",
        "    self.perda_equacao = residuo\n",
        "    self.perda_equacao_validacao = residuo_validacao\n",
        "\n",
        "  def calc_perda(self):\n",
        "\n",
        "    self.calc_perda_contorno()\n",
        "    self.calc_perda_equacao()\n",
        "\n",
        "    perda = (1-self.alpha)*self.perda_contorno + self.alpha*self.perda_equacao\n",
        "    perda_validacao = (1-self.alpha)*self.perda_contorno_validacao + self.alpha*self.perda_equacao_validacao\n",
        "\n",
        "    self.perda = perda\n",
        "    self.perda_validacao = perda_validacao\n",
        "    self.perda_contorno = self.perda_contorno\n",
        "    self.perda_contorno_validacao = self.perda_contorno_validacao\n",
        "    self.perda_equacao = self.perda_equacao\n",
        "    self.perda_equacao_validacao = self.perda_equacao_validacao\n",
        "\n",
        "  def definicao_otimizador(self):\n",
        "      self.gerar_pontos_validacao()\n",
        "      otimizador = torch.optim.Adam(self.rna.parameters(),self.learning_rate)\n",
        "      agendador = torch.optim.lr_scheduler.StepLR(otimizador, step_size=1000, gamma=0.9)\n",
        "\n",
        "      self.X_equacao = torch.tensor(self.X_equacao,requires_grad=True,dtype=torch.float)\n",
        "      self.X_contorno = torch.tensor(self.X_contorno,dtype=torch.float)\n",
        "      self.Y_contorno = torch.tensor(self.Y_contorno,dtype=torch.float)\n",
        "\n",
        "      self.X_equacao = self.X_equacao.to(self.device)\n",
        "      self.X_contorno = self.X_contorno.to(self.device)\n",
        "      self.Y_contorno = self.Y_contorno.to(self.device)\n",
        "      self.rna = self.rna.to(self.device)\n",
        "\n",
        "      self.X_equacao_validacao = torch.tensor(self.X_equacao_validacao,requires_grad=True,dtype=torch.float)\n",
        "      self.X_contorno_validacao = torch.tensor(self.X_contorno_validacao,dtype=torch.float)\n",
        "      self.Y_contorno_validacao = torch.tensor(self.Y_contorno_validacao,dtype=torch.float)\n",
        "\n",
        "      self.X_equacao_validacao = self.X_equacao_validacao.to(self.device)\n",
        "      self.X_contorno_validacao = self.X_contorno_validacao.to(self.device)\n",
        "      self.Y_contorno_validacao = self.Y_contorno_validacao.to(self.device)\n",
        "      self.rna = self.rna.to(self.device)\n",
        "\n",
        "  def treinamento_da_rede(self):\n",
        "    otimizador = torch.optim.Adam(self.rna.parameters(), lr=self.learning_rate, weight_decay=1e-5)\n",
        "    agendador = torch.optim.lr_scheduler.StepLR(otimizador, step_size=1000, gamma=0.9)\n",
        "\n",
        "    perda_historico = np.zeros(self.epocas)\n",
        "    perda_contorno_historico = np.zeros(self.epocas)\n",
        "    perda_equacao_historico = np.zeros(self.epocas)\n",
        "\n",
        "    perda_historico_validacao = np.zeros(self.epocas)\n",
        "    perda_contorno_historico_validacao = np.zeros(self.epocas)\n",
        "    perda_equacao_historico_validacao = np.zeros(self.epocas)\n",
        "\n",
        "    epocas = np.array(range(self.epocas))\n",
        "\n",
        "    # Colocar rede em modo de treinamento\n",
        "    self.rna.train()\n",
        "\n",
        "    # FAZER ITERAÇÃO\n",
        "    for epoca in epocas:\n",
        "        # Resortear pontos\n",
        "        # self.gerar_pontos_equacao()\n",
        "\n",
        "        # Inicializar gradientes\n",
        "        otimizador.zero_grad()\n",
        "\n",
        "        # Calcular perdas\n",
        "        self.calc_perda()\n",
        "\n",
        "        # Backpropagation\n",
        "        self.perda.backward()\n",
        "\n",
        "        # Passo do otimizador\n",
        "        otimizador.step()\n",
        "        agendador.step()\n",
        "\n",
        "        # Guardar logs\n",
        "        perda_historico[epoca] = self.perda.item()\n",
        "        perda_contorno_historico[epoca] = self.perda_contorno.item()\n",
        "        perda_equacao_historico[epoca] = self.perda_equacao.item()\n",
        "\n",
        "        perda_historico_validacao[epoca] = self.perda_validacao.item()\n",
        "        perda_contorno_historico_validacao[epoca] = self.perda_contorno_validacao.item()\n",
        "        perda_equacao_historico_validacao[epoca] = self.perda_equacao_validacao.item()\n",
        "\n",
        "        for name, param in self.rna.named_parameters():\n",
        "            wandb.log({f'Gradient/{name}': param.grad.norm().item()}, step=epoca)\n",
        "\n",
        "        if epoca % 500 == 0:\n",
        "            print(f'Epoca: {epoca}, Perda: {self.perda.item()} (Contorno: {self.perda_contorno.item()}, Equacao: {self.perda_equacao.item()})')\n",
        "            print(f'Perda Validação: {self.perda_validacao.item()} (Contorno Validação: {self.perda_contorno_validacao.item()}, Equacao: {self.perda_equacao_validacao.item()})')\n",
        "            wandb.log({'epoch': epoca, 'loss': self.perda.item()})\n",
        "\n",
        "        # Ressortear os pontos - evitar overfitting\n",
        "        # self.regerar_pontos_validacao()\n",
        "        self.regerar_pontos_contorno()\n",
        "        self.regerar_pontos_equacao()\n",
        "\n",
        "    self.perda_historico = perda_historico\n",
        "    self.perda_contorno_historico = perda_contorno_historico\n",
        "    self.perda_equacao_historico = perda_equacao_historico\n",
        "\n",
        "    self.perda_historico_validacao = perda_historico_validacao\n",
        "    self.perda_contorno_historico_validacao = perda_contorno_historico_validacao\n",
        "    self.perda_equacao_historico_validacao = perda_equacao_historico_validacao\n",
        "\n",
        "\n",
        "  # def calcular_grid(self, nx=101, ny=101,nt=101):\n",
        "  #   # Definir grid\n",
        "  #   x = np.linspace(0.,self.comprimento_x,nx)\n",
        "  #   y = np.linspace(0.,self.comprimento_y,ny)\n",
        "  #   t = np.linspace(0.,self.tempo_final,nt)\n",
        "  #   [t_grid, y_grid, x_grid] = np.meshgrid(t,y,x)\n",
        "\n",
        "  #   x = torch.tensor(x_grid.flatten()[:,None],requires_grad=True,dtype=torch.float).to(self.device)\n",
        "  #   y = torch.tensor(y_grid.flatten()[:,None],requires_grad=True,dtype=torch.float).to(self.device)\n",
        "  #   t = torch.tensor(t_grid.flatten()[:,None],requires_grad=True,dtype=torch.float).to(self.device)\n",
        "\n",
        "  #   # Avaliar modelor\n",
        "  #   self.rna.eval()\n",
        "  #   Y_pred = self.rna(torch.hstack((x,y,t)))\n",
        "  #   # Formatar resultados em array\n",
        "  #   u_pred = Y_pred.cpu().detach().numpy()[:,0].reshape(x_grid.shape)\n",
        "  #   v_pred = Y_pred.cpu().detach().numpy()[:,1].reshape(x_grid.shape)\n",
        "\n",
        "  #   self.x_grid = x_grid\n",
        "  #   self.y_grid = y_grid\n",
        "  #   self.t_grid = t_grid\n",
        "  #   self.u_pred = u_pred\n",
        "  #   self.v_pred = v_pred\n",
        "\n",
        "  def plot_historico(self):\n",
        "    # Plotar histórico\n",
        "    epocas = np.array(range(self.epocas))\n",
        "    fig = go.FigureWidget()\n",
        "    fig.add_trace(go.Scatter(x=epocas, y=self.perda_historico, name='Total', line=dict(color='black', width=4)))\n",
        "    fig.add_trace(go.Scatter(x=epocas, y=self.perda_contorno_historico, name='Contorno', line=dict(color='blue', width=2)))\n",
        "    fig.add_trace(go.Scatter(x=epocas, y=self.perda_equacao_historico, name='Equacao', line=dict(color='red', width=2)))\n",
        "    fig.update_yaxes(type=\"log\")\n",
        "    fig.show(renderer=\"colab\")\n",
        "\n",
        "  def plot_comparacao(self):\n",
        "    # Plotar histórico\n",
        "    epocas = np.array(range(self.epocas))\n",
        "    plt.plot(epocas, self.perda_historico, 'b', label=\"Perda do treino\")\n",
        "    plt.plot(epocas, self.perda_historico_validacao, 'r', label=\"Perdas nos pontos de validação\")\n",
        "    plt.xlabel('Épocas')\n",
        "    plt.ylabel('Perdas')\n",
        "    plt.yscale('log')\n",
        "    plt.legend()\n",
        "    plt.show()\n",
        "\n",
        "  # def plot_resultados(self, epocas=101):\n",
        "  #   # Calcular valores da função e gerar grids\n",
        "  #   self.calcular_grid()\n",
        "\n",
        "  #   ind_t_plot = 50  # Esse é o índice do tempo a ser plotado\n",
        "\n",
        "  #   # Extrair uma \"fatia\" dos arrays de coordenadas e soluções\n",
        "  #   x_plot = self.x_grid[:, ind_t_plot, :]\n",
        "  #   y_plot = self.y_grid[:, ind_t_plot, :]\n",
        "  #   u_plot = self.u_pred[:, ind_t_plot, :]\n",
        "\n",
        "  #   # Check dimensions and data types of x_plot, y_plot, and u_plot\n",
        "\n",
        "  #   # Check if the data is not empty\n",
        "\n",
        "  #   # Plot the surface\n",
        "  #   fig = go.Figure(data=[go.Surface(x=x_plot, y=y_plot, z=u_plot)])\n",
        "\n",
        "  #   # Check scene settings\n",
        "  #   fig.update_layout(scene=dict(aspectratio=dict(x=1.5, y=1.5, z=0.5)))\n",
        "\n",
        "  #   # Show the figure\n",
        "  #   fig.show()"
      ]
    },
    {
      "cell_type": "markdown",
      "metadata": {
        "id": "i-4Ji9aSCKpN"
      },
      "source": [
        "## Medição de Qualidade da Rede\n",
        "\n",
        "Agora que o código está montado e estruturado na forma Orientada a Objetos, um bom ponto de continuidade é a elaboração de uma função de medição de qualidade da rede. Basicamente, vai ser uma rotina de testes automatizados, que vai gerar diversos modelos. A ideia é comparar como variações nos hiperparâmetros da rede impactam o resultado final, tentando indicar um ponto ótimo para a rede."
      ]
    },
    {
      "cell_type": "code",
      "execution_count": 7,
      "metadata": {
        "id": "LrFo6NP6Ddcn"
      },
      "outputs": [],
      "source": [
        "def medicao_qualidade(comprimento_x: int = 1, comprimento_y: int = 1, tempo_final: int = 1,\n",
        "    pontos_no_contorno: int = 1000, pontos_no_dominio: int = 2000, numero_de_neuronios = [3, 20, 20, 20, 2],\n",
        "    pontos_no_contorno_validacao: int = 200, pontos_no_dominio_validacao: int = 300,\n",
        "    alpha: float = 0.2, epocas: int = 20000, learning_rate: float = 0.01,\n",
        "    train: bool = False, verbose: bool = False, max_time = None,\n",
        "    device = torch.device('cuda' if torch.cuda.is_available() else 'cpu')):\n",
        "\n",
        "    # Criação do Objeto\n",
        "    pinn_burgers = pinn(comprimento_x, comprimento_y, tempo_final, pontos_no_contorno, pontos_no_dominio, numero_de_neuronios, pontos_no_contorno_validacao, pontos_no_dominio_validacao, alpha, epocas, learning_rate, train, verbose, max_time, device)\n",
        "\n",
        "    # Pontos de contorno e domínio para o treinamento e para a validação\n",
        "    pinn_burgers.gerar_pontos_contorno()\n",
        "    pinn_burgers.gerar_pontos_equacao()\n",
        "\n",
        "    # Criação da rede\n",
        "    pinn_burgers.criar_rede_neural()\n",
        "\n",
        "    # Passando para GPU e otimizando\n",
        "    pinn_burgers.definicao_otimizador()\n",
        "\n",
        "    # Realizar as correções nas chamadas dos métodos da classe pinn\n",
        "    pinn_burgers.X_contorno = pinn_burgers.X_contorno.clone().detach().to(device)\n",
        "    pinn_burgers.Y_contorno = pinn_burgers.Y_contorno.clone().detach().to(device)\n",
        "    pinn_burgers.X_equacao_validacao = pinn_burgers.X_equacao_validacao.clone().detach().requires_grad_(True).to(device)\n",
        "    pinn_burgers.X_contorno_validacao = pinn_burgers.X_contorno_validacao.clone().detach().to(device)\n",
        "    pinn_burgers.Y_contorno_validacao = pinn_burgers.Y_contorno_validacao.clone().detach().to(device)\n",
        "\n",
        "    # Treinamento\n",
        "    pinn_burgers.treinamento_da_rede()\n",
        "    return pinn_burgers\n"
      ]
    },
    {
      "cell_type": "markdown",
      "metadata": {
        "id": "xOWPPXUYdFnX"
      },
      "source": [
        "### Modelando e Resolvendo"
      ]
    },
    {
      "cell_type": "code",
      "execution_count": 8,
      "metadata": {
        "colab": {
          "base_uri": "https://localhost:8080/",
          "height": 1000
        },
        "id": "kP4yVlKPfQ2f",
        "outputId": "407b4562-4d90-4e08-a601-a14296f29d20"
      },
      "outputs": [
        {
          "name": "stderr",
          "output_type": "stream",
          "text": [
            "/tmp/ipykernel_384334/1117091103.py:272: UserWarning: To copy construct from a tensor, it is recommended to use sourceTensor.clone().detach() or sourceTensor.clone().detach().requires_grad_(True), rather than torch.tensor(sourceTensor).\n",
            "  self.X_equacao = torch.tensor(self.X_equacao,requires_grad=True,dtype=torch.float)\n",
            "/tmp/ipykernel_384334/1117091103.py:281: UserWarning: To copy construct from a tensor, it is recommended to use sourceTensor.clone().detach() or sourceTensor.clone().detach().requires_grad_(True), rather than torch.tensor(sourceTensor).\n",
            "  self.X_equacao_validacao = torch.tensor(self.X_equacao_validacao,requires_grad=True,dtype=torch.float)\n"
          ]
        },
        {
          "name": "stdout",
          "output_type": "stream",
          "text": [
            "Epoca: 0, Perda: 0.11276267468929291 (Contorno: 0.13516932725906372, Equacao: 0.06048049405217171)\n",
            "Perda Validação: 0.11459056288003922 (Contorno Validação: 0.13758288323879242, Equacao: 0.060941822826862335)\n",
            "Epoca: 500, Perda: 0.021699726581573486 (Contorno: 0.025035280734300613, Equacao: 0.01391676440834999)\n",
            "Perda Validação: 0.02532711625099182 (Contorno Validação: 0.02609832212328911, Equacao: 0.023527635261416435)\n"
          ]
        }
      ],
      "source": [
        "pinn_burgers = medicao_qualidade(1, 1, 1, 1000, 2000, [3, 100, 100, 100, 100, 100, 2], 300, 400, 0.3, 10000, 0.001, False, False, None, 'cuda')\n",
        "pinn_burgers.plot_historico()\n",
        "pinn_burgers.plot_comparacao()"
      ]
    }
  ],
  "metadata": {
    "accelerator": "GPU",
    "colab": {
      "provenance": []
    },
    "kernelspec": {
      "display_name": "Python 3",
      "name": "python3"
    },
    "language_info": {
      "codemirror_mode": {
        "name": "ipython",
        "version": 3
      },
      "file_extension": ".py",
      "mimetype": "text/x-python",
      "name": "python",
      "nbconvert_exporter": "python",
      "pygments_lexer": "ipython3",
      "version": "3.8.10"
    },
    "widgets": {
      "application/vnd.jupyter.widget-state+json": {
        "2046bfa5c64a4fe3af9374216a9b382a": {
          "model_module": "@jupyter-widgets/controls",
          "model_module_version": "1.5.0",
          "model_name": "DescriptionStyleModel",
          "state": {
            "_model_module": "@jupyter-widgets/controls",
            "_model_module_version": "1.5.0",
            "_model_name": "DescriptionStyleModel",
            "_view_count": null,
            "_view_module": "@jupyter-widgets/base",
            "_view_module_version": "1.2.0",
            "_view_name": "StyleView",
            "description_width": ""
          }
        },
        "4131ee39206e43318d79dae964e81fee": {
          "model_module": "@jupyter-widgets/controls",
          "model_module_version": "1.5.0",
          "model_name": "ProgressStyleModel",
          "state": {
            "_model_module": "@jupyter-widgets/controls",
            "_model_module_version": "1.5.0",
            "_model_name": "ProgressStyleModel",
            "_view_count": null,
            "_view_module": "@jupyter-widgets/base",
            "_view_module_version": "1.2.0",
            "_view_name": "StyleView",
            "bar_color": null,
            "description_width": ""
          }
        },
        "56400735044d49eebe5550cd945d8cc2": {
          "model_module": "@jupyter-widgets/base",
          "model_module_version": "1.2.0",
          "model_name": "LayoutModel",
          "state": {
            "_model_module": "@jupyter-widgets/base",
            "_model_module_version": "1.2.0",
            "_model_name": "LayoutModel",
            "_view_count": null,
            "_view_module": "@jupyter-widgets/base",
            "_view_module_version": "1.2.0",
            "_view_name": "LayoutView",
            "align_content": null,
            "align_items": null,
            "align_self": null,
            "border": null,
            "bottom": null,
            "display": null,
            "flex": null,
            "flex_flow": null,
            "grid_area": null,
            "grid_auto_columns": null,
            "grid_auto_flow": null,
            "grid_auto_rows": null,
            "grid_column": null,
            "grid_gap": null,
            "grid_row": null,
            "grid_template_areas": null,
            "grid_template_columns": null,
            "grid_template_rows": null,
            "height": null,
            "justify_content": null,
            "justify_items": null,
            "left": null,
            "margin": null,
            "max_height": null,
            "max_width": null,
            "min_height": null,
            "min_width": null,
            "object_fit": null,
            "object_position": null,
            "order": null,
            "overflow": null,
            "overflow_x": null,
            "overflow_y": null,
            "padding": null,
            "right": null,
            "top": null,
            "visibility": null,
            "width": null
          }
        },
        "84493f74702b452eb5f0cba84238f9a3": {
          "model_module": "@jupyter-widgets/base",
          "model_module_version": "1.2.0",
          "model_name": "LayoutModel",
          "state": {
            "_model_module": "@jupyter-widgets/base",
            "_model_module_version": "1.2.0",
            "_model_name": "LayoutModel",
            "_view_count": null,
            "_view_module": "@jupyter-widgets/base",
            "_view_module_version": "1.2.0",
            "_view_name": "LayoutView",
            "align_content": null,
            "align_items": null,
            "align_self": null,
            "border": null,
            "bottom": null,
            "display": null,
            "flex": null,
            "flex_flow": null,
            "grid_area": null,
            "grid_auto_columns": null,
            "grid_auto_flow": null,
            "grid_auto_rows": null,
            "grid_column": null,
            "grid_gap": null,
            "grid_row": null,
            "grid_template_areas": null,
            "grid_template_columns": null,
            "grid_template_rows": null,
            "height": null,
            "justify_content": null,
            "justify_items": null,
            "left": null,
            "margin": null,
            "max_height": null,
            "max_width": null,
            "min_height": null,
            "min_width": null,
            "object_fit": null,
            "object_position": null,
            "order": null,
            "overflow": null,
            "overflow_x": null,
            "overflow_y": null,
            "padding": null,
            "right": null,
            "top": null,
            "visibility": null,
            "width": null
          }
        },
        "99572d02a5da4290938cdece8651e9f8": {
          "model_module": "@jupyter-widgets/base",
          "model_module_version": "1.2.0",
          "model_name": "LayoutModel",
          "state": {
            "_model_module": "@jupyter-widgets/base",
            "_model_module_version": "1.2.0",
            "_model_name": "LayoutModel",
            "_view_count": null,
            "_view_module": "@jupyter-widgets/base",
            "_view_module_version": "1.2.0",
            "_view_name": "LayoutView",
            "align_content": null,
            "align_items": null,
            "align_self": null,
            "border": null,
            "bottom": null,
            "display": null,
            "flex": null,
            "flex_flow": null,
            "grid_area": null,
            "grid_auto_columns": null,
            "grid_auto_flow": null,
            "grid_auto_rows": null,
            "grid_column": null,
            "grid_gap": null,
            "grid_row": null,
            "grid_template_areas": null,
            "grid_template_columns": null,
            "grid_template_rows": null,
            "height": null,
            "justify_content": null,
            "justify_items": null,
            "left": null,
            "margin": null,
            "max_height": null,
            "max_width": null,
            "min_height": null,
            "min_width": null,
            "object_fit": null,
            "object_position": null,
            "order": null,
            "overflow": null,
            "overflow_x": null,
            "overflow_y": null,
            "padding": null,
            "right": null,
            "top": null,
            "visibility": null,
            "width": null
          }
        },
        "acf5bb49d72c43a09785ab6b27302f4f": {
          "model_module": "@jupyter-widgets/controls",
          "model_module_version": "1.5.0",
          "model_name": "VBoxModel",
          "state": {
            "_dom_classes": [],
            "_model_module": "@jupyter-widgets/controls",
            "_model_module_version": "1.5.0",
            "_model_name": "VBoxModel",
            "_view_count": null,
            "_view_module": "@jupyter-widgets/controls",
            "_view_module_version": "1.5.0",
            "_view_name": "VBoxView",
            "box_style": "",
            "children": [
              "IPY_MODEL_faf210c2bb66437ea38ae2462900ca8a",
              "IPY_MODEL_dcf0d54a3e234c16ae0aa7abb0595143"
            ],
            "layout": "IPY_MODEL_99572d02a5da4290938cdece8651e9f8"
          }
        },
        "dcf0d54a3e234c16ae0aa7abb0595143": {
          "model_module": "@jupyter-widgets/controls",
          "model_module_version": "1.5.0",
          "model_name": "FloatProgressModel",
          "state": {
            "_dom_classes": [],
            "_model_module": "@jupyter-widgets/controls",
            "_model_module_version": "1.5.0",
            "_model_name": "FloatProgressModel",
            "_view_count": null,
            "_view_module": "@jupyter-widgets/controls",
            "_view_module_version": "1.5.0",
            "_view_name": "ProgressView",
            "bar_style": "",
            "description": "",
            "description_tooltip": null,
            "layout": "IPY_MODEL_56400735044d49eebe5550cd945d8cc2",
            "max": 1,
            "min": 0,
            "orientation": "horizontal",
            "style": "IPY_MODEL_4131ee39206e43318d79dae964e81fee",
            "value": 1
          }
        },
        "faf210c2bb66437ea38ae2462900ca8a": {
          "model_module": "@jupyter-widgets/controls",
          "model_module_version": "1.5.0",
          "model_name": "LabelModel",
          "state": {
            "_dom_classes": [],
            "_model_module": "@jupyter-widgets/controls",
            "_model_module_version": "1.5.0",
            "_model_name": "LabelModel",
            "_view_count": null,
            "_view_module": "@jupyter-widgets/controls",
            "_view_module_version": "1.5.0",
            "_view_name": "LabelView",
            "description": "",
            "description_tooltip": null,
            "layout": "IPY_MODEL_84493f74702b452eb5f0cba84238f9a3",
            "placeholder": "​",
            "style": "IPY_MODEL_2046bfa5c64a4fe3af9374216a9b382a",
            "value": "0.016 MB of 0.016 MB uploaded\r"
          }
        }
      }
    }
  },
  "nbformat": 4,
  "nbformat_minor": 0
}
